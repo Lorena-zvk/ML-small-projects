{
 "cells": [
  {
   "cell_type": "code",
   "execution_count": 1,
   "id": "285303a5",
   "metadata": {},
   "outputs": [],
   "source": [
    "import numpy as np\n",
    "import pandas as pd\n",
    "import matplotlib.pyplot as plt\n",
    "import math\n",
    "import random\n",
    "from sklearn import preprocessing"
   ]
  },
  {
   "cell_type": "code",
   "execution_count": 2,
   "id": "48d810b2",
   "metadata": {},
   "outputs": [],
   "source": [
    "#represent data"
   ]
  },
  {
   "cell_type": "code",
   "execution_count": 3,
   "id": "375ea27b",
   "metadata": {},
   "outputs": [],
   "source": [
    "class customer:\n",
    "    \n",
    "    def __init__(self, i, x, y, d, q, depot):\n",
    "        \n",
    "        self.id = i\n",
    "        self.x = x\n",
    "        self.y = y\n",
    "        self.duration = d\n",
    "        self.quantity = q\n",
    "        self.depot = depot\n",
    "\n",
    "    def show(self):\n",
    "        \n",
    "        print(\"Customer number \", self.id)\n",
    "        print(\"Coord x \", self.x)\n",
    "        print(\"Coord y \", self.y)\n",
    "        print(\"Duration \", self.duration)\n",
    "        print(\"Quantity \", self.quantity)\n",
    "        print(\"Depot \", self.depot)"
   ]
  },
  {
   "cell_type": "code",
   "execution_count": 4,
   "id": "2c2c2895",
   "metadata": {},
   "outputs": [],
   "source": [
    "class depot:\n",
    "    \n",
    "    def __init__(self, nr, max_cars, max_weight, max_duration, customers, x, y, current_weight):\n",
    "        \n",
    "        self.nr = nr\n",
    "        self.max_cars = max_cars\n",
    "        self.max_weight = max_weight\n",
    "        self.max_duration = max_duration\n",
    "        self.x = x\n",
    "        self.y = y\n",
    "        self.clients = customers\n",
    "        self.current_weight = current_weight\n",
    "        \n",
    "    def show(self):\n",
    "        \n",
    "        print(\"Depot number \", self.nr)\n",
    "        print(\"Max weight of cars  \", self.max_weight)\n",
    "        print(\"Max duration \",  self.max_duration)\n",
    "        print(\"Coord x \", self.x)\n",
    "        print(\"Coord y \", self.y)\n",
    "        print(\"Customers \", self.clients)\n",
    "        print(\"Current weight \", self.current_weight)\n",
    "        \n",
    "        \n",
    "        \n",
    "        "
   ]
  },
  {
   "cell_type": "code",
   "execution_count": 5,
   "id": "022f663e",
   "metadata": {},
   "outputs": [],
   "source": [
    "def create_chromosone():\n",
    "    \n",
    "    route = []\n",
    "    for i in range(0, t):\n",
    "        lista = np.random.permutation(depot_info[i].clients)\n",
    "        lista = lista.tolist()\n",
    "        route.append(lista)\n",
    "    return route"
   ]
  },
  {
   "cell_type": "code",
   "execution_count": 6,
   "id": "0b653df5",
   "metadata": {},
   "outputs": [],
   "source": [
    "def create_population():\n",
    "    \n",
    "    population = []\n",
    "    for i in range(0, population_size):\n",
    "        something = create_chromosone()\n",
    "        population.append(something)\n",
    "    return population\n",
    "        "
   ]
  },
  {
   "cell_type": "code",
   "execution_count": 7,
   "id": "f0399184",
   "metadata": {},
   "outputs": [],
   "source": [
    "#calculation functions"
   ]
  },
  {
   "cell_type": "code",
   "execution_count": 8,
   "id": "92e76269",
   "metadata": {},
   "outputs": [],
   "source": [
    "def calculate_distance(x1, y1, x2, y2):\n",
    "    \n",
    "    x1 = int(x1)\n",
    "    x2 = int(x2)\n",
    "    y1 = int(y1)\n",
    "    y2 = int(y2)\n",
    "    distance = math.sqrt(pow(x2-x1, 2) + pow(y2-y1, 2))\n",
    "    return distance"
   ]
  },
  {
   "cell_type": "code",
   "execution_count": 9,
   "id": "5e1822d9",
   "metadata": {},
   "outputs": [],
   "source": [
    "#read data"
   ]
  },
  {
   "cell_type": "code",
   "execution_count": 10,
   "id": "c9a7919b",
   "metadata": {},
   "outputs": [],
   "source": [
    "def read_depot():\n",
    "    \n",
    "    depot_info = []\n",
    "    for i in range (0, t):\n",
    "        data = f.readline()\n",
    "        data = data.split()\n",
    "        d = int(data[0])\n",
    "        q = int(data[1])\n",
    "        customers = []\n",
    "        depot_data = depot(i+1, m, q, d, customers,  0, 0, 0)\n",
    "        depot_info.append(depot_data)\n",
    "    return depot_info"
   ]
  },
  {
   "cell_type": "code",
   "execution_count": 11,
   "id": "d3504cfd",
   "metadata": {},
   "outputs": [],
   "source": [
    "def first_info():\n",
    "    data = f.readline()\n",
    "    data = data.split()\n",
    "    m = int(data[0])\n",
    "    n = int(data[1])\n",
    "    t = int(data[2])\n",
    "    return m, n, t\n"
   ]
  },
  {
   "cell_type": "code",
   "execution_count": 12,
   "id": "43acd400",
   "metadata": {},
   "outputs": [],
   "source": [
    "def show_all_depots():\n",
    "    \n",
    "    for i in range(len(depot_info)):\n",
    "        depot_info[i].show()\n",
    "        print(\"\\n\")\n"
   ]
  },
  {
   "cell_type": "code",
   "execution_count": 13,
   "id": "91b8ec00",
   "metadata": {},
   "outputs": [],
   "source": [
    "def read_customers():\n",
    "    \n",
    "    customers = []\n",
    "    for i in range(0, n):\n",
    "        data = f.readline()\n",
    "        data = data.split()\n",
    "        nr = int(data[0])\n",
    "        x = int(data[1])\n",
    "        y = int(data[2])\n",
    "        d = int(data[3])\n",
    "        q = int(data[4])\n",
    "        something = customer(nr, x, y, d, q, 0)\n",
    "        customers.append(something)\n",
    "    return customers\n",
    "\n",
    "def show_all_customers():\n",
    "    \n",
    "    for i in range(len(customers)):\n",
    "        customers[i].show()\n",
    "        print(\"\\n\")\n",
    "\n"
   ]
  },
  {
   "cell_type": "code",
   "execution_count": 14,
   "id": "ec49afeb",
   "metadata": {},
   "outputs": [],
   "source": [
    "def read_depot_location(depot_info):\n",
    "    \n",
    "    for i in range(0, t):\n",
    "        \n",
    "        data = f.readline()\n",
    "        data = data.split()\n",
    "        x = int(data[1])\n",
    "        y = int(data[2])\n",
    "        depot_info[i].x = x\n",
    "        depot_info[i].y = y    \n"
   ]
  },
  {
   "cell_type": "code",
   "execution_count": null,
   "id": "91e5434e",
   "metadata": {},
   "outputs": [],
   "source": []
  },
  {
   "cell_type": "code",
   "execution_count": 15,
   "id": "a5c3c7b7",
   "metadata": {},
   "outputs": [],
   "source": [
    "#process data"
   ]
  },
  {
   "cell_type": "code",
   "execution_count": 16,
   "id": "480029a6",
   "metadata": {},
   "outputs": [],
   "source": [
    "def assign_customers():\n",
    "    \n",
    "    for i in range(0, n):\n",
    "        distance = []\n",
    "        x1 = customers[i].x\n",
    "        y1 = customers[i].y\n",
    "        for k in range(0, t):\n",
    "            x2 = depot_info[k].x\n",
    "            y2 = depot_info[k].y\n",
    "            distance.append(calculate_distance(x1, y1, x2, y2))\n",
    "            \n",
    "    \n",
    "        condition = 1\n",
    "        while condition:\n",
    "            smallest_distance = min(distance)\n",
    "            k = distance.index(smallest_distance)\n",
    "            compare = int(depot_info[k].current_weight) + int(customers[i].quantity)\n",
    "            if compare <= depot_info[k].max_weight*m:\n",
    "                depot_info[k].current_weight+=customers[i].quantity\n",
    "                customers[i].depot = k\n",
    "                depot_info[k].clients.append(i+1)\n",
    "                condition = 0\n",
    "            distance[k] = distance[k]*100000\n",
    "            "
   ]
  },
  {
   "cell_type": "code",
   "execution_count": null,
   "id": "f589801d",
   "metadata": {},
   "outputs": [],
   "source": []
  },
  {
   "cell_type": "code",
   "execution_count": null,
   "id": "4961adca",
   "metadata": {},
   "outputs": [],
   "source": []
  },
  {
   "cell_type": "code",
   "execution_count": 17,
   "id": "504a1daf",
   "metadata": {},
   "outputs": [],
   "source": [
    "def phase_1(data, k):\n",
    "    \n",
    "    i = 1\n",
    "    weight = 0\n",
    "    lista = data.copy()\n",
    "    lista.insert(0, -1)\n",
    "    while i < len(lista):\n",
    "        if lista[i] != -1:\n",
    "            if weight + customers[lista[i]-1].quantity <= depot_info[k].max_weight:\n",
    "                weight += customers[lista[i]-1].quantity\n",
    "            else:\n",
    "                weight = 0\n",
    "                lista.insert(i, -1)\n",
    "                i +=1\n",
    "        i+=1\n",
    "    lista.insert(len(lista), -1)\n",
    "    return lista"
   ]
  },
  {
   "cell_type": "code",
   "execution_count": 18,
   "id": "f0a0b26c",
   "metadata": {},
   "outputs": [],
   "source": [
    "def check_if_ok(data, k):\n",
    "    \n",
    "    weight = 0\n",
    "    for i in range(0, len(data)):\n",
    "        if data[i] == -1:\n",
    "            if weight > depot_info[k].max_weight:\n",
    "                return 0\n",
    "            weight = 0\n",
    "        weight += int(customers[data[i]-1].quantity)\n",
    "    if weight > depot_info[k].max_weight:\n",
    "            return 0\n",
    "    return 1       "
   ]
  },
  {
   "cell_type": "code",
   "execution_count": 19,
   "id": "50704af3",
   "metadata": {},
   "outputs": [],
   "source": [
    "def permutate(data):\n",
    "    \n",
    "    lista = data.copy()\n",
    "    for i in range(1, len(data)-1):\n",
    "        if lista[i+1] == -1:\n",
    "            x = lista[i+1]\n",
    "            lista[i+1] = lista[i]\n",
    "            lista[i] = x\n",
    "    return lista"
   ]
  },
  {
   "cell_type": "code",
   "execution_count": 20,
   "id": "e954252a",
   "metadata": {},
   "outputs": [],
   "source": [
    "def calculate_cost(data, k):\n",
    "    \n",
    "    x = depot_info[k].x\n",
    "    y = depot_info[k].y\n",
    "    cost = 0\n",
    "    for i in range(0, len(data)-1):\n",
    "        \n",
    "        if data[i] == -1:\n",
    "            x1 = x\n",
    "            y1 = y\n",
    "        else:\n",
    "            x1 = customers[data[i]-1].x\n",
    "            y1 = customers[data[i]-1].y\n",
    "        if data[i+1] == -1:\n",
    "            x2 = x\n",
    "            y2 = y\n",
    "        else:\n",
    "            x2 = customers[data[i+1]-1].x\n",
    "            y2 = customers[data[i+1]-1].y\n",
    "        cost += calculate_distance(x1, y1, x2, y2) \n",
    "    return cost\n",
    "\n"
   ]
  },
  {
   "cell_type": "code",
   "execution_count": 21,
   "id": "97daffd6",
   "metadata": {},
   "outputs": [],
   "source": [
    "def phase_2(data, k):\n",
    "    \n",
    "    lista = data.copy()\n",
    "    lista_2 = data.copy()\n",
    "    cost = calculate_cost(lista, k)\n",
    "    lista_2 = permutate(lista_2).copy()\n",
    "    if check_if_ok(lista_2, k):\n",
    "        if calculate_cost(lista_2, k) < cost:\n",
    "             lista = lista_2.copy()\n",
    "    return lista\n",
    "        \n",
    "    "
   ]
  },
  {
   "cell_type": "code",
   "execution_count": 22,
   "id": "c5cefc15",
   "metadata": {},
   "outputs": [],
   "source": [
    "#route scheduler\n",
    "def route_scheduler(population):\n",
    "        \n",
    "        population_routes = []\n",
    "        for i in range(0, population_size):\n",
    "            \n",
    "            car = []\n",
    "            for k in range(0, t):\n",
    "                lista = population[i][k].copy()\n",
    "                lista = phase_2(lista, k)\n",
    "                lista = phase_1(lista, k)\n",
    "                car.append(lista)\n",
    "            population_routes.append(car)\n",
    "        return population_routes\n",
    "            \n"
   ]
  },
  {
   "cell_type": "code",
   "execution_count": null,
   "id": "c7e9ab34",
   "metadata": {},
   "outputs": [],
   "source": []
  },
  {
   "cell_type": "code",
   "execution_count": 23,
   "id": "efa040db",
   "metadata": {},
   "outputs": [],
   "source": [
    "def calculate_population_score(population_routes):\n",
    "    population_cost = []\n",
    "    for i in range(0, population_size):\n",
    "        cost = 0\n",
    "        for k in range(0, t):\n",
    "            cost += calculate_cost(population_routes[i][k], k)\n",
    "        \n",
    "        population_cost.append(cost)\n",
    "    return population_cost\n",
    "\n"
   ]
  },
  {
   "cell_type": "code",
   "execution_count": 24,
   "id": "c2ec8397",
   "metadata": {},
   "outputs": [],
   "source": [
    "def calculate_population_fitness(population_routes):\n",
    "    \n",
    "    population_cost = calculate_population_score(population_routes)\n",
    "    population_fitness = preprocessing.normalize([population_cost])\n",
    "    population_fitness = population_fitness.tolist()\n",
    "    return population_fitness\n",
    "\n"
   ]
  },
  {
   "cell_type": "code",
   "execution_count": 25,
   "id": "7c7d737a",
   "metadata": {},
   "outputs": [],
   "source": [
    "def medium():\n",
    "    \n",
    "    suma = 0\n",
    "    for i in range(0, population_size):\n",
    "        suma += population_fitness[i]\n",
    "    return suma/population_size"
   ]
  },
  {
   "cell_type": "code",
   "execution_count": 26,
   "id": "f48b2c83",
   "metadata": {},
   "outputs": [],
   "source": [
    "def selection():\n",
    "    \n",
    "    parents = []\n",
    "    threshold = medium()\n",
    "    for i in range(0, population_size):\n",
    "        if population_fitness[i] > threshold:\n",
    "            parents.append(i)\n",
    "    return parents\n",
    "\n"
   ]
  },
  {
   "cell_type": "code",
   "execution_count": 27,
   "id": "de648ec4",
   "metadata": {},
   "outputs": [],
   "source": [
    "#best cost route crosssover"
   ]
  },
  {
   "cell_type": "code",
   "execution_count": 28,
   "id": "ebdacf8e",
   "metadata": {},
   "outputs": [],
   "source": [
    "def choose_depot():\n",
    "    \n",
    "    x = random.randrange(0, t)\n",
    "    return x"
   ]
  },
  {
   "cell_type": "code",
   "execution_count": 29,
   "id": "9cbd39a4",
   "metadata": {},
   "outputs": [],
   "source": [
    "def choose_route(lista):\n",
    "    \n",
    "    x = random.randrange(0, len(lista))\n",
    "    return x"
   ]
  },
  {
   "cell_type": "code",
   "execution_count": 30,
   "id": "9a1e21ab",
   "metadata": {},
   "outputs": [],
   "source": [
    "def individual_routes(lista):\n",
    "    \n",
    "    individual_routes = []\n",
    "    data = []\n",
    "    for i in range(1, len(lista)):\n",
    "        if lista[i] == -1:\n",
    "            individual_routes.append(data)\n",
    "            data = []\n",
    "        else:\n",
    "             data.append(lista[i])\n",
    "        \n",
    "    return individual_routes\n"
   ]
  },
  {
   "cell_type": "code",
   "execution_count": 31,
   "id": "3b73cdfb",
   "metadata": {},
   "outputs": [],
   "source": [
    "def select_parents(population):\n",
    "    \n",
    "    k = get_best(population)\n",
    "    x = random.randrange(0, len(population))\n",
    "    while x==k:\n",
    "        x = random.randrange(0, len(population))\n",
    "    y = x\n",
    "    while y == x or y==k:\n",
    "        y = random.randrange(0, len(population))\n",
    "    return x, y"
   ]
  },
  {
   "cell_type": "code",
   "execution_count": 32,
   "id": "970808af",
   "metadata": {},
   "outputs": [],
   "source": [
    "def BCRC_data(population):\n",
    "    x, y = select_parents(population)\n",
    "    routes_population = route_scheduler(population)\n",
    "    parent_1 = routes_population[x]\n",
    "    parent_2 = routes_population[y]\n",
    "    d = choose_depot()\n",
    "    parent_1 = parent_1[d]\n",
    "    parent_2 = parent_2[d]\n",
    "    parent_1 = individual_routes(parent_1)\n",
    "    parent_2 = individual_routes(parent_2)\n",
    "    \n",
    "    return parent_1, parent_2, x, y, d"
   ]
  },
  {
   "cell_type": "code",
   "execution_count": 33,
   "id": "9a1583f7",
   "metadata": {},
   "outputs": [],
   "source": [
    "def get_route(parent_1, parent_2):\n",
    "    \n",
    "    p1 = choose_route(parent_1)\n",
    "    p1 = parent_1[p1]\n",
    "    p2 = choose_route(parent_2)\n",
    "    p2 = parent_2[p2]\n",
    "    return p1, p2"
   ]
  },
  {
   "cell_type": "code",
   "execution_count": 34,
   "id": "2c9efd72",
   "metadata": {},
   "outputs": [],
   "source": [
    "def remove_element(lista, k):\n",
    "    \n",
    "    data = []\n",
    "    for i in range(0, len(lista)):\n",
    "        if lista[i]!=k:\n",
    "            data.append(lista[i])\n",
    "            \n",
    "    return data"
   ]
  },
  {
   "cell_type": "code",
   "execution_count": 35,
   "id": "68d46326",
   "metadata": {},
   "outputs": [],
   "source": [
    "def remove_items(x, y):\n",
    "    \n",
    "    final = []\n",
    "    \n",
    "    for i in range(0, len(x)):\n",
    "        data = x[i]\n",
    "        for q in range(0, len(y)):\n",
    "            data = remove_element(data, y[q])\n",
    "        final.append(data)     \n",
    "    return final\n"
   ]
  },
  {
   "cell_type": "code",
   "execution_count": 36,
   "id": "8e2af7c7",
   "metadata": {},
   "outputs": [],
   "source": [
    "def convert(lista):\n",
    "    \n",
    "    final = [-1]\n",
    "    for i in range(0, len(lista)):\n",
    "        data = lista[i]\n",
    "        for k in range(0, len(data)):\n",
    "            final.append(data[k])\n",
    "        final.append(-1)\n",
    "        \n",
    "    return final\n",
    "   "
   ]
  },
  {
   "cell_type": "code",
   "execution_count": 37,
   "id": "09e54f0b",
   "metadata": {},
   "outputs": [],
   "source": [
    "def choose_best_insertion(data, k, d):\n",
    "    \n",
    "    min_cost = 10000000\n",
    "    final = -1\n",
    "    lista = data.copy()\n",
    "    for i in range(1, len(data)-1): \n",
    "        sth = data.copy()\n",
    "        sth.insert(i, k)\n",
    "        if check_if_ok(sth, d):\n",
    "            cost = calculate_cost(sth, d)\n",
    "            if cost <= min_cost:\n",
    "                min_cost = cost\n",
    "                final = i\n",
    "    lista.insert(final, k)\n",
    "    return lista\n",
    "        "
   ]
  },
  {
   "cell_type": "code",
   "execution_count": 38,
   "id": "93de48d0",
   "metadata": {},
   "outputs": [],
   "source": [
    "def move(data, aux, d):\n",
    "    \n",
    "    for i in range(len(aux)):\n",
    "        data = choose_best_insertion(data, aux[i], d)\n",
    "    return data"
   ]
  },
  {
   "cell_type": "code",
   "execution_count": null,
   "id": "1723ffc0",
   "metadata": {},
   "outputs": [],
   "source": []
  },
  {
   "cell_type": "code",
   "execution_count": 39,
   "id": "37f78cc7",
   "metadata": {},
   "outputs": [],
   "source": [
    "def BCRC(population):\n",
    "    \n",
    "    parent_1, parent_2, x, y, d = BCRC_data(population)\n",
    "    p1, p2 = get_route(parent_1, parent_2)\n",
    "    aux1 = remove_items(parent_1, p2)\n",
    "    aux2 = remove_items(parent_2, p1)\n",
    "    aux1 = convert(aux1)\n",
    "    aux2 = convert(aux2)\n",
    "    child1 = move(aux1, p2, d)\n",
    "    child2 = move(aux2, p1, d)\n",
    "    child1 = individual_routes(child1)\n",
    "    child2 = individual_routes(child2)\n",
    "    n = []\n",
    "    m = []\n",
    "    for i in range(0, len(child1)):\n",
    "        for k in range(0, len(child1[i])):\n",
    "            n.append(child1[i][k])\n",
    "    for i in range(0, len(child2)):\n",
    "        for k in range(0, len(child2[i])):\n",
    "            m.append(child2[i][k])\n",
    "    kid1 = []\n",
    "    for i in range(0, t):\n",
    "        if i != d:\n",
    "            kid1.append(population[x][i])\n",
    "        else:\n",
    "            kid1.append(n)\n",
    "    kid2 = []\n",
    "    for i in range(0, t):\n",
    "        if i != d:\n",
    "            kid2.append(population[y][i])\n",
    "        else:\n",
    "            kid2.append(m)\n",
    "    population_new = []\n",
    "    for i in range(0, population_size):\n",
    "        if i == x:\n",
    "            population_new.append(kid1)\n",
    "        elif i==y:\n",
    "            population_new.append(kid2)\n",
    "        else:\n",
    "            population_new.append(population[i])\n",
    "    return population_new\n"
   ]
  },
  {
   "cell_type": "code",
   "execution_count": null,
   "id": "5ebc8455",
   "metadata": {},
   "outputs": [],
   "source": []
  },
  {
   "cell_type": "code",
   "execution_count": 40,
   "id": "05aaf0e7",
   "metadata": {},
   "outputs": [],
   "source": [
    "def reversal_mutation(population):\n",
    "    \n",
    "    y = get_best(population)\n",
    "    x = random.randint(0, population_size-1)\n",
    "    while x==y:\n",
    "        x = random.randint(0, population_size-1)\n",
    "    line = population[x].copy()\n",
    "    depot = random.randint(0, len(line)-1)\n",
    "    line_new = line[depot].copy()\n",
    "    d = []\n",
    "    for i in range(0, len(population[x])):\n",
    "        if i == depot:\n",
    "            d.append(line_new)\n",
    "        else:\n",
    "            d.append(population[x][i])\n",
    "    population_new = []\n",
    "    for i in range(0, len(population)):\n",
    "        if i == x:\n",
    "            population_new.append(d)\n",
    "        else:\n",
    "            population_new.append(population[i])\n",
    "    \n",
    "    return population_new\n"
   ]
  },
  {
   "cell_type": "code",
   "execution_count": 41,
   "id": "78e72802",
   "metadata": {},
   "outputs": [
    {
     "data": {
      "text/plain": [
       "[[4, 17, 42, 25, 41, 13, 15, 40, 19, 44, 37, 45, 18],\n",
       " [32, 8, 23, 7, 6, 24, 43, 46, 26, 12, 31, 14, 48, 11, 47, 27, 1],\n",
       " [10, 5, 49, 38, 50, 33, 16, 9, 34, 39, 30],\n",
       " [35, 36, 2, 20, 29, 21, 3, 22, 28]]"
      ]
     },
     "execution_count": 41,
     "metadata": {},
     "output_type": "execute_result"
    }
   ],
   "source": [
    "f = open(\"Data Files/p01.txt\", \"r\")\n",
    "m, n, t = first_info()\n",
    "depot_info = read_depot()   \n",
    "customers = read_customers()\n",
    "read_depot_location(depot_info)\n",
    "assign_customers()\n",
    "create_chromosone()"
   ]
  },
  {
   "cell_type": "code",
   "execution_count": 42,
   "id": "69d332c7",
   "metadata": {},
   "outputs": [
    {
     "name": "stdout",
     "output_type": "stream",
     "text": [
      "[[[17, 15, 40, 13, 41, 37, 19, 4, 18, 44, 42, 45, 25], [6, 11, 46, 48, 8, 43, 24, 32, 31, 12, 7, 47, 23, 27, 26, 14, 1], [38, 16, 5, 39, 30, 50, 34, 9, 33, 10, 49], [21, 3, 2, 29, 36, 22, 28, 35, 20]], [[18, 25, 44, 17, 13, 15, 40, 37, 41, 4, 45, 19, 42], [27, 12, 24, 26, 7, 23, 46, 32, 6, 1, 8, 31, 11, 47, 48, 14, 43], [39, 50, 33, 16, 5, 30, 34, 9, 10, 49, 38], [29, 21, 3, 2, 28, 22, 36, 35, 20]], [[4, 45, 18, 15, 17, 42, 25, 44, 19, 40, 13, 41, 37], [46, 14, 8, 1, 26, 7, 32, 12, 48, 6, 31, 47, 24, 23, 27, 11, 43], [10, 16, 50, 34, 33, 49, 39, 9, 38, 5, 30], [36, 35, 3, 22, 28, 2, 20, 21, 29]], [[15, 44, 13, 19, 18, 4, 42, 41, 45, 17, 37, 40, 25], [6, 12, 24, 14, 27, 11, 23, 1, 47, 8, 26, 46, 31, 7, 43, 32, 48], [38, 9, 49, 50, 39, 10, 34, 33, 16, 5, 30], [20, 22, 35, 36, 2, 28, 29, 3, 21]], [[44, 25, 17, 41, 4, 13, 18, 19, 40, 37, 15, 45, 42], [43, 48, 7, 31, 32, 12, 11, 23, 6, 46, 24, 14, 8, 1, 26, 47, 27], [33, 16, 39, 49, 9, 30, 38, 50, 10, 5, 34], [3, 36, 35, 29, 28, 20, 22, 21, 2]], [[25, 44, 45, 19, 13, 42, 37, 18, 41, 17, 40, 4, 15], [12, 31, 7, 23, 11, 32, 8, 6, 48, 43, 14, 46, 1, 47, 24, 27, 26], [34, 50, 5, 16, 9, 39, 30, 10, 33, 38, 49], [28, 29, 22, 20, 3, 36, 35, 2, 21]], [[13, 25, 40, 37, 44, 15, 19, 4, 41, 45, 18, 42, 17], [47, 8, 24, 1, 14, 43, 26, 31, 7, 46, 48, 11, 12, 6, 23, 32, 27], [5, 34, 10, 49, 50, 39, 16, 9, 38, 33, 30], [2, 22, 29, 28, 3, 20, 36, 21, 35]], [[15, 13, 4, 19, 45, 44, 41, 18, 40, 25, 17, 42, 37], [27, 24, 32, 12, 46, 23, 43, 7, 8, 31, 1, 11, 48, 26, 6, 47, 14], [30, 10, 50, 39, 34, 5, 38, 49, 9, 33, 16], [29, 3, 36, 28, 35, 22, 20, 2, 21]], [[42, 4, 15, 13, 25, 37, 18, 45, 41, 17, 19, 40, 44], [47, 46, 43, 11, 24, 12, 8, 6, 27, 26, 32, 48, 14, 23, 7, 1, 31], [39, 10, 34, 49, 38, 30, 5, 16, 33, 9, 50], [29, 20, 28, 36, 2, 35, 3, 22, 21]], [[15, 37, 44, 17, 45, 4, 41, 42, 18, 40, 13, 25, 19], [8, 1, 7, 48, 47, 27, 46, 32, 26, 43, 23, 11, 24, 14, 31, 6, 12], [10, 38, 30, 34, 50, 49, 16, 39, 5, 9, 33], [29, 28, 2, 35, 3, 36, 20, 21, 22]]]\n"
     ]
    }
   ],
   "source": [
    "population_size = 10\n",
    "population = create_population()\n",
    "population_arr = population.copy()\n",
    "population_routes = route_scheduler(population_arr)\n",
    "print(population)"
   ]
  },
  {
   "cell_type": "code",
   "execution_count": 43,
   "id": "957d37a7",
   "metadata": {},
   "outputs": [
    {
     "name": "stdout",
     "output_type": "stream",
     "text": [
      "[0.330077005719613, 0.3198736791163498, 0.3202804451261069, 0.320028422633136, 0.3107141554629572, 0.31767958021509674, 0.3177613645449603, 0.2929493606397141, 0.3280130686660022, 0.30312449072523995]\n"
     ]
    }
   ],
   "source": [
    "population_fitness = calculate_population_fitness(population_routes)\n",
    "population_fitness = population_fitness[0]\n",
    "print(population_fitness)"
   ]
  },
  {
   "cell_type": "code",
   "execution_count": 44,
   "id": "c0323573",
   "metadata": {},
   "outputs": [
    {
     "name": "stdout",
     "output_type": "stream",
     "text": [
      "[1062.97537166838, 1030.1167214127765, 1031.4266649802207, 1030.6150552694792, 1000.6195195748486, 1023.0508760051209, 1023.3142531169068, 943.4100228433795, 1056.3286976539964, 976.1778694277115]\n"
     ]
    }
   ],
   "source": [
    "nr = calculate_population_score(population_routes)\n",
    "print(nr)"
   ]
  },
  {
   "cell_type": "code",
   "execution_count": 45,
   "id": "6a74fcb2",
   "metadata": {},
   "outputs": [
    {
     "data": {
      "text/plain": [
       "<matplotlib.collections.PathCollection at 0x138a55c9550>"
      ]
     },
     "execution_count": 45,
     "metadata": {},
     "output_type": "execute_result"
    },
    {
     "data": {
      "image/png": "[encoded data removed]",
      "text/plain": [
       "<Figure size 432x288 with 1 Axes>"
      ]
     },
     "metadata": {
      "needs_background": "light"
     },
     "output_type": "display_data"
    }
   ],
   "source": [
    "#data visualisation\n",
    "\n",
    "x = []\n",
    "y = []\n",
    "for i in range(0, n):\n",
    "    \n",
    "    x.append(customers[i].x) \n",
    "    y.append(customers[i].y)\n",
    "\n",
    "plt.scatter(x, y)"
   ]
  },
  {
   "cell_type": "code",
   "execution_count": 46,
   "id": "0925b56c",
   "metadata": {},
   "outputs": [
    {
     "data": {
      "text/plain": [
       "<matplotlib.collections.PathCollection at 0x138a76c97c0>"
      ]
     },
     "execution_count": 46,
     "metadata": {},
     "output_type": "execute_result"
    },
    {
     "data": {
      "image/png": "[encoded data removed]",
      "text/plain": [
       "<Figure size 432x288 with 1 Axes>"
      ]
     },
     "metadata": {
      "needs_background": "light"
     },
     "output_type": "display_data"
    }
   ],
   "source": [
    "x1 = []\n",
    "y1 = []\n",
    "for i in range(0, t):\n",
    "    \n",
    "    x1.append(depot_info[i].x) \n",
    "    y1.append(depot_info[i].y)\n",
    "\n",
    "plt.scatter(x1, y1)"
   ]
  },
  {
   "cell_type": "code",
   "execution_count": 47,
   "id": "49a6e1c9",
   "metadata": {},
   "outputs": [
    {
     "data": {
      "image/png": "[encoded data removed]",
      "text/plain": [
       "<Figure size 432x288 with 1 Axes>"
      ]
     },
     "metadata": {
      "needs_background": "light"
     },
     "output_type": "display_data"
    }
   ],
   "source": [
    "plt.scatter(x, y, color=\"green\")\n",
    "plt.scatter(x1, y1, color=\"red\")\n",
    "plt.show()"
   ]
  },
  {
   "cell_type": "code",
   "execution_count": 48,
   "id": "8a90ac81",
   "metadata": {},
   "outputs": [],
   "source": [
    "def get_best(population):\n",
    "    \n",
    "    new_population = route_scheduler(population)\n",
    "    population_fitness = calculate_population_fitness(new_population)\n",
    "    population_fitness = population_fitness[0]\n",
    "    bestnr = 0\n",
    "    for i in range(1, population_size):\n",
    "        if population_fitness[i]<population_fitness[bestnr]:\n",
    "            bestnr = i\n",
    "    \n",
    "    return bestnr"
   ]
  },
  {
   "cell_type": "code",
   "execution_count": null,
   "id": "3af67086",
   "metadata": {},
   "outputs": [],
   "source": []
  },
  {
   "cell_type": "code",
   "execution_count": 49,
   "id": "f30de966",
   "metadata": {},
   "outputs": [],
   "source": [
    "def plot_routes(population):\n",
    "    \n",
    "    ##plt.scatter(x, y, color=\"red\")\n",
    "    colors = [\"blue\", \"green\", \"red\", \"purple\", \"yellow\", \"pink\", \"orange\"]\n",
    "    xl = get_best(population)\n",
    "    route = population[xl]\n",
    "    for i in range (0, len(route)):\n",
    "        xd = []\n",
    "        yd = []\n",
    "        for k in range(0, len(route[i])):\n",
    "            if route[i][k]==-1:\n",
    "                xd.append(depot_info[i-1].x)\n",
    "                yd.append(depot_info[i-1].y)\n",
    "                c = random.randint(0, len(colors)-1)\n",
    "                color = colors[c]\n",
    "                plt.plot(xd, yd, color=color)\n",
    "                xd = []\n",
    "                yd = []\n",
    "                xd.append(depot_info[i-1].x)\n",
    "                yd.append(depot_info[i-1].y)\n",
    "            else:\n",
    "                xd.append(customers[route[i][k]-1].x)\n",
    "                yd.append(customers[route[i][k]-1].y)\n",
    "        xd.append(depot_info[i-1].x)\n",
    "        yd.append(depot_info[i-1].y)\n",
    "        \n",
    "    plt.scatter(x1, y1, color=\"black\")\n",
    "    plt.show()\n",
    "    "
   ]
  },
  {
   "cell_type": "code",
   "execution_count": 50,
   "id": "b2f18de8",
   "metadata": {},
   "outputs": [
    {
     "data": {
      "image/png": "[encoded data removed]",
      "text/plain": [
       "<Figure size 432x288 with 1 Axes>"
      ]
     },
     "metadata": {
      "needs_background": "light"
     },
     "output_type": "display_data"
    },
    {
     "name": "stdout",
     "output_type": "stream",
     "text": [
      "943.4100228433795\n"
     ]
    }
   ],
   "source": [
    "plot_routes(population_routes)\n",
    "print(min(calculate_population_score(population_routes)))"
   ]
  },
  {
   "cell_type": "code",
   "execution_count": 51,
   "id": "43dce29d",
   "metadata": {},
   "outputs": [],
   "source": [
    "minimum_distance = []"
   ]
  },
  {
   "cell_type": "code",
   "execution_count": 52,
   "id": "948308ec",
   "metadata": {},
   "outputs": [
    {
     "name": "stdout",
     "output_type": "stream",
     "text": [
      "840.9121841465721\n"
     ]
    },
    {
     "data": {
      "image/png": "[encoded data removed]",
      "text/plain": [
       "<Figure size 432x288 with 1 Axes>"
      ]
     },
     "metadata": {
      "needs_background": "light"
     },
     "output_type": "display_data"
    }
   ],
   "source": [
    "#ga\n",
    "mutation_rate = 1\n",
    "crossover_rate = 1\n",
    "ti = 0;\n",
    "while ti!=1000:\n",
    "    \n",
    "    for i in range(0, crossover_rate):\n",
    "        population = BCRC(population)\n",
    "    for j in range(0, mutation_rate):\n",
    "        population = reversal_mutation(population)\n",
    "    population_now = route_scheduler(population)\n",
    "    nr = calculate_population_score(population_now)\n",
    "    minimum_distance.append(nr[get_best(population)])  \n",
    "    ti+=1\n",
    "population_now = route_scheduler(population)\n",
    "print(min(minimum_distance))\n",
    "plot_routes(population_now)"
   ]
  },
  {
   "cell_type": "code",
   "execution_count": 53,
   "id": "e0b82648",
   "metadata": {},
   "outputs": [
    {
     "name": "stdout",
     "output_type": "stream",
     "text": [
      "840.9121841465721\n"
     ]
    }
   ],
   "source": [
    "print(min(minimum_distance))"
   ]
  },
  {
   "cell_type": "code",
   "execution_count": 54,
   "id": "4dbb4412",
   "metadata": {},
   "outputs": [
    {
     "name": "stdout",
     "output_type": "stream",
     "text": [
      "840.9121841465721\n"
     ]
    },
    {
     "data": {
      "image/png": "[encoded data removed]",
      "text/plain": [
       "<Figure size 432x288 with 1 Axes>"
      ]
     },
     "metadata": {
      "needs_background": "light"
     },
     "output_type": "display_data"
    }
   ],
   "source": [
    "plt.plot(range(0, ti), minimum_distance)\n",
    "print(min(minimum_distance))\n",
    "plt.show()"
   ]
  },
  {
   "cell_type": "code",
   "execution_count": 55,
   "id": "969b5b19",
   "metadata": {},
   "outputs": [
    {
     "name": "stdout",
     "output_type": "stream",
     "text": [
      "[[-1, 41, 40, 42, -1, 18, 37, 25, 13, 4, 17, -1, 15, 45, 19, 44, -1], [-1, 14, 48, 32, 12, -1, 27, 47, 7, 26, 1, 23, -1, 6, 24, 43, 8, 31, 11, 46, -1], [-1, 9, 50, 49, 33, 16, -1, 34, 30, 39, 10, 5, 38, -1], [-1, 20, 3, 35, 36, -1, 28, 22, 21, 29, 2, -1]]\n"
     ]
    }
   ],
   "source": [
    "p = population_now[get_best(population)]\n",
    "print(p)"
   ]
  },
  {
   "cell_type": "code",
   "execution_count": 56,
   "id": "93e5978d",
   "metadata": {},
   "outputs": [],
   "source": [
    "def calculate(data, k):\n",
    "    \n",
    "    lista = [0]\n",
    "    x = depot_info[k].x\n",
    "    y = depot_info[k].y\n",
    "    x1 = customers[data[0]-1].x\n",
    "    y1 = customers[data[0]-1].y\n",
    "    cost = 0\n",
    "    cost += calculate_distance(x, y, x1, y1)\n",
    "    lista.append(customers[data[0]-1].id)\n",
    "    weight = 0\n",
    "    weight += customers[data[0]-1].quantity\n",
    "    for i in range(1, len(data)-1):\n",
    "            x2 = x1\n",
    "            y2 = y1\n",
    "            x1 = customers[data[i]-1].x\n",
    "            y1 = customers[data[i]-1].y\n",
    "            lista.append(customers[data[i]-1].id)\n",
    "            cost += calculate_distance(x1, y1, x2, y2) \n",
    "            weight += customers[data[i]-1].quantity\n",
    "    cost += calculate_distance(x, y, x1, y1) \n",
    "    if len(data)!=1:\n",
    "        weight += customers[data[-1]-1].quantity\n",
    "        lista.append(customers[data[-1]-1].id)\n",
    "    lista.append(0)\n",
    "    return cost, weight, lista\n",
    "\n"
   ]
  },
  {
   "cell_type": "code",
   "execution_count": 57,
   "id": "c27e6056",
   "metadata": {},
   "outputs": [
    {
     "name": "stdout",
     "output_type": "stream",
     "text": [
      "1   1   43.04   47   0 41 40 42 0\n",
      "1   2   95.81   113   0 18 37 25 13 4 17 0\n",
      "1   3   59.27   45   0 15 45 19 44 0\n",
      "2   1   62.31   79   0 14 48 32 12 0\n",
      "2   2   100.72   89   0 27 47 7 26 1 23 0\n",
      "2   3   113.48   94   0 6 24 43 8 31 11 46 0\n",
      "3   1   59.81   77   0 9 50 49 33 16 0\n",
      "3   2   64.36   100   0 34 30 39 10 5 38 0\n",
      "4   1   39.56   67   0 20 3 35 36 0\n",
      "4   2   69.13   66   0 28 22 21 29 2 0\n"
     ]
    }
   ],
   "source": [
    "for i in range(0, len(p)):\n",
    "    lista = individual_routes(p[i])\n",
    "    for j in range(0, len(lista)):\n",
    "        cost, weight, l = calculate(lista[j], i)\n",
    "        cost = str(round(cost, 2))\n",
    "        print(i+1,' ', j+1, ' ', cost, ' ', weight, ' ', *l)"
   ]
  },
  {
   "cell_type": "code",
   "execution_count": null,
   "id": "3ba0e90d",
   "metadata": {},
   "outputs": [],
   "source": []
  },
  {
   "cell_type": "code",
   "execution_count": null,
   "id": "a9858de9",
   "metadata": {},
   "outputs": [],
   "source": []
  }
 ],
 "metadata": {
  "kernelspec": {
   "display_name": "Python 3 (ipykernel)",
   "language": "python",
   "name": "python3"
  },
  "language_info": {
   "codemirror_mode": {
    "name": "ipython",
    "version": 3
   },
   "file_extension": ".py",
   "mimetype": "text/x-python",
   "name": "python",
   "nbconvert_exporter": "python",
   "pygments_lexer": "ipython3",
   "version": "3.9.7"
  }
 },
 "nbformat": 4,
 "nbformat_minor": 5
}
